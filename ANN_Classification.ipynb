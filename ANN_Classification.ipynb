{
 "cells": [
  {
   "cell_type": "markdown",
   "metadata": {},
   "source": [
    "#####   \n",
    "<span style=\"font-family:Arial; font-weight:Bold; font-size:2.5em; color:#00b3e5;\"> ANN Classification"
   ]
  },
  {
   "cell_type": "code",
   "execution_count": 1,
   "metadata": {},
   "outputs": [],
   "source": [
    "import numpy  as np\n",
    "import pandas as pd\n",
    "import matplotlib.pyplot as plt\n",
    "\n",
    "from random import randint\n",
    "from sklearn.utils import shuffle\n",
    "from sklearn.preprocessing import MinMaxScaler"
   ]
  },
  {
   "cell_type": "markdown",
   "metadata": {},
   "source": [
    "**Example data**\n",
    "\n",
    "Experimental **drug** was tested on **2100** individuals between **13 to 100** years old. \n",
    "<Br>\n",
    "**Half** the participants are **under 65** and around **95%** of them showed **no side-effects.**\n",
    "<Br>\n",
    "**Half** the participants are **over 65** and around **95%** of them showed **side-effects.**"
   ]
  },
  {
   "cell_type": "code",
   "execution_count": 3,
   "metadata": {},
   "outputs": [],
   "source": [
    "# making training data"
   ]
  },
  {
   "cell_type": "code",
   "execution_count": 4,
   "metadata": {},
   "outputs": [
    {
     "name": "stdout",
     "output_type": "stream",
     "text": [
      "2100 [19, 93, 17, 68, 29]\n",
      "2100 [1, 0, 1, 0, 1]\n"
     ]
    }
   ],
   "source": [
    "train_samples, train_labels = [], []\n",
    "\n",
    "for i in range(50):\n",
    "    \n",
    "    # The ~20% of younger individuals who did experiance side-effects\n",
    "    random_younger = randint(12,35)\n",
    "    train_samples.append(random_younger)\n",
    "    train_labels.append(1)\n",
    "    \n",
    "    # The ~5% of older individuals who did not experiance side-effects\n",
    "    random_older = randint(65,100)\n",
    "    train_samples.append(random_older)\n",
    "    train_labels.append(0) \n",
    "    \n",
    "for i in range(1000):\n",
    "    \n",
    "    # The ~95% of younger individuals who did not experiance side-effects\n",
    "    random_younger = randint(13,64)\n",
    "    train_samples.append(random_younger)\n",
    "    train_labels.append(0)\n",
    "    \n",
    "    # The ~95% of older individuals who did experiance side-effects\n",
    "    random_older = randint(65,100)\n",
    "    train_samples.append(random_older)\n",
    "    train_labels.append(1)  \n",
    "    \n",
    "print( len(train_samples), train_samples[:5] )\n",
    "print( len(train_labels),  train_labels[:5]  )"
   ]
  },
  {
   "cell_type": "code",
   "execution_count": 5,
   "metadata": {},
   "outputs": [
    {
     "name": "stdout",
     "output_type": "stream",
     "text": [
      "2100 [21 60 71 93 90]\n",
      "2100 [0 0 1 1 1]\n"
     ]
    }
   ],
   "source": [
    "train_samples, train_labels = np.array(train_samples), np.array(train_labels)\n",
    "train_samples, train_labels = shuffle(train_samples, train_labels)\n",
    "\n",
    "print( len(train_samples), train_samples[:5] )\n",
    "print( len(train_labels),  train_labels[:5]  )"
   ]
  },
  {
   "cell_type": "code",
   "execution_count": 6,
   "metadata": {
    "scrolled": false
   },
   "outputs": [
    {
     "data": {
      "text/plain": [
       "array([[0.10227273],\n",
       "       [0.54545455],\n",
       "       [0.67045455],\n",
       "       [0.92045455],\n",
       "       [0.88636364]])"
      ]
     },
     "execution_count": 6,
     "metadata": {},
     "output_type": "execute_result"
    }
   ],
   "source": [
    "scaler = MinMaxScaler(feature_range=(0,1))\n",
    "scaled_train_samples = scaler.fit_transform( train_samples.reshape(-1,1) )\n",
    "scaled_train_samples[:5]"
   ]
  },
  {
   "cell_type": "code",
   "execution_count": 7,
   "metadata": {},
   "outputs": [],
   "source": [
    "# creating an artificial neural network"
   ]
  },
  {
   "cell_type": "code",
   "execution_count": 8,
   "metadata": {},
   "outputs": [],
   "source": [
    "import tensorflow as tf\n",
    "from tensorflow import keras\n",
    "from keras.models import Sequential\n",
    "from keras.layers import Dense, Dropout, Activation\n",
    "from keras.metrics import categorical_crossentropy\n",
    "from keras.optimizers import Adam"
   ]
  },
  {
   "cell_type": "code",
   "execution_count": 9,
   "metadata": {},
   "outputs": [
    {
     "name": "stdout",
     "output_type": "stream",
     "text": [
      "Model: \"sequential\"\n",
      "_________________________________________________________________\n",
      " Layer (type)                Output Shape              Param #   \n",
      "=================================================================\n",
      " dense (Dense)               (None, 16)                32        \n",
      "                                                                 \n",
      " dropout (Dropout)           (None, 16)                0         \n",
      "                                                                 \n",
      " activation (Activation)     (None, 16)                0         \n",
      "                                                                 \n",
      " dense_1 (Dense)             (None, 32)                544       \n",
      "                                                                 \n",
      " activation_1 (Activation)   (None, 32)                0         \n",
      "                                                                 \n",
      " dense_2 (Dense)             (None, 2)                 66        \n",
      "                                                                 \n",
      " activation_2 (Activation)   (None, 2)                 0         \n",
      "                                                                 \n",
      "=================================================================\n",
      "Total params: 642\n",
      "Trainable params: 642\n",
      "Non-trainable params: 0\n",
      "_________________________________________________________________\n"
     ]
    }
   ],
   "source": [
    "model = Sequential()\n",
    "\n",
    "model.add( Dense(units=16, input_shape=(1,)) )\n",
    "model.add( Dropout(0.2) )\n",
    "model.add( Activation('relu') )\n",
    "          \n",
    "model.add( Dense(units=32) )\n",
    "#model.add( Dropout(0.2) )\n",
    "model.add( Activation('relu') )\n",
    "\n",
    "model.add( Dense(units=2) )         # units = number of classes\n",
    "model.add( Activation('softmax') ) \n",
    "\n",
    "model.summary()"
   ]
  },
  {
   "cell_type": "code",
   "execution_count": 10,
   "metadata": {},
   "outputs": [],
   "source": [
    "# training the model"
   ]
  },
  {
   "cell_type": "code",
   "execution_count": 11,
   "metadata": {},
   "outputs": [],
   "source": [
    "model.compile(\n",
    "    optimizer = Adam( learning_rate=0.0001 ),\n",
    "    loss = 'sparse_categorical_crossentropy',\n",
    "    metrics=['accuracy']\n",
    "             )"
   ]
  },
  {
   "cell_type": "code",
   "execution_count": 12,
   "metadata": {},
   "outputs": [
    {
     "name": "stdout",
     "output_type": "stream",
     "text": [
      "Epoch 1/100\n",
      "34/34 - 1s - loss: 0.7023 - accuracy: 0.4845 - val_loss: 0.6931 - val_accuracy: 0.5167 - 971ms/epoch - 29ms/step\n",
      "Epoch 2/100\n",
      "34/34 - 0s - loss: 0.6938 - accuracy: 0.4976 - val_loss: 0.6856 - val_accuracy: 0.5167 - 126ms/epoch - 4ms/step\n",
      "Epoch 3/100\n",
      "34/34 - 0s - loss: 0.6869 - accuracy: 0.5042 - val_loss: 0.6785 - val_accuracy: 0.5167 - 133ms/epoch - 4ms/step\n",
      "Epoch 4/100\n",
      "34/34 - 0s - loss: 0.6817 - accuracy: 0.5143 - val_loss: 0.6725 - val_accuracy: 0.5405 - 121ms/epoch - 4ms/step\n",
      "Epoch 5/100\n",
      "34/34 - 0s - loss: 0.6734 - accuracy: 0.5625 - val_loss: 0.6664 - val_accuracy: 0.5452 - 184ms/epoch - 5ms/step\n",
      "Epoch 6/100\n",
      "34/34 - 0s - loss: 0.6706 - accuracy: 0.5565 - val_loss: 0.6605 - val_accuracy: 0.5667 - 124ms/epoch - 4ms/step\n",
      "Epoch 7/100\n",
      "34/34 - 0s - loss: 0.6647 - accuracy: 0.5631 - val_loss: 0.6546 - val_accuracy: 0.5786 - 135ms/epoch - 4ms/step\n",
      "Epoch 8/100\n",
      "34/34 - 0s - loss: 0.6591 - accuracy: 0.5851 - val_loss: 0.6489 - val_accuracy: 0.5905 - 134ms/epoch - 4ms/step\n",
      "Epoch 9/100\n",
      "34/34 - 0s - loss: 0.6533 - accuracy: 0.5982 - val_loss: 0.6435 - val_accuracy: 0.6000 - 140ms/epoch - 4ms/step\n",
      "Epoch 10/100\n",
      "34/34 - 0s - loss: 0.6471 - accuracy: 0.6095 - val_loss: 0.6376 - val_accuracy: 0.6119 - 141ms/epoch - 4ms/step\n",
      "Epoch 11/100\n",
      "34/34 - 0s - loss: 0.6444 - accuracy: 0.6238 - val_loss: 0.6318 - val_accuracy: 0.6333 - 124ms/epoch - 4ms/step\n",
      "Epoch 12/100\n",
      "34/34 - 0s - loss: 0.6361 - accuracy: 0.6470 - val_loss: 0.6252 - val_accuracy: 0.6452 - 128ms/epoch - 4ms/step\n",
      "Epoch 13/100\n",
      "34/34 - 0s - loss: 0.6309 - accuracy: 0.6637 - val_loss: 0.6183 - val_accuracy: 0.6595 - 131ms/epoch - 4ms/step\n",
      "Epoch 14/100\n",
      "34/34 - 0s - loss: 0.6261 - accuracy: 0.6690 - val_loss: 0.6112 - val_accuracy: 0.6762 - 140ms/epoch - 4ms/step\n",
      "Epoch 15/100\n",
      "34/34 - 0s - loss: 0.6178 - accuracy: 0.6940 - val_loss: 0.6028 - val_accuracy: 0.6952 - 128ms/epoch - 4ms/step\n",
      "Epoch 16/100\n",
      "34/34 - 0s - loss: 0.6121 - accuracy: 0.7030 - val_loss: 0.5939 - val_accuracy: 0.7143 - 123ms/epoch - 4ms/step\n",
      "Epoch 17/100\n",
      "34/34 - 0s - loss: 0.6032 - accuracy: 0.7232 - val_loss: 0.5847 - val_accuracy: 0.7310 - 121ms/epoch - 4ms/step\n",
      "Epoch 18/100\n",
      "34/34 - 0s - loss: 0.5949 - accuracy: 0.7417 - val_loss: 0.5758 - val_accuracy: 0.7429 - 114ms/epoch - 3ms/step\n",
      "Epoch 19/100\n",
      "34/34 - 0s - loss: 0.5884 - accuracy: 0.7494 - val_loss: 0.5671 - val_accuracy: 0.7595 - 119ms/epoch - 3ms/step\n",
      "Epoch 20/100\n",
      "34/34 - 0s - loss: 0.5815 - accuracy: 0.7589 - val_loss: 0.5583 - val_accuracy: 0.7643 - 120ms/epoch - 4ms/step\n",
      "Epoch 21/100\n",
      "34/34 - 0s - loss: 0.5746 - accuracy: 0.7690 - val_loss: 0.5490 - val_accuracy: 0.7643 - 115ms/epoch - 3ms/step\n",
      "Epoch 22/100\n",
      "34/34 - 0s - loss: 0.5660 - accuracy: 0.7756 - val_loss: 0.5397 - val_accuracy: 0.7833 - 125ms/epoch - 4ms/step\n",
      "Epoch 23/100\n",
      "34/34 - 0s - loss: 0.5558 - accuracy: 0.8006 - val_loss: 0.5301 - val_accuracy: 0.7905 - 126ms/epoch - 4ms/step\n",
      "Epoch 24/100\n",
      "34/34 - 0s - loss: 0.5514 - accuracy: 0.8042 - val_loss: 0.5205 - val_accuracy: 0.8000 - 120ms/epoch - 4ms/step\n",
      "Epoch 25/100\n",
      "34/34 - 0s - loss: 0.5435 - accuracy: 0.8143 - val_loss: 0.5109 - val_accuracy: 0.8071 - 112ms/epoch - 3ms/step\n",
      "Epoch 26/100\n",
      "34/34 - 0s - loss: 0.5310 - accuracy: 0.8167 - val_loss: 0.5014 - val_accuracy: 0.8071 - 121ms/epoch - 4ms/step\n",
      "Epoch 27/100\n",
      "34/34 - 0s - loss: 0.5276 - accuracy: 0.8208 - val_loss: 0.4919 - val_accuracy: 0.8167 - 116ms/epoch - 3ms/step\n",
      "Epoch 28/100\n",
      "34/34 - 0s - loss: 0.5186 - accuracy: 0.8232 - val_loss: 0.4826 - val_accuracy: 0.8262 - 117ms/epoch - 3ms/step\n",
      "Epoch 29/100\n",
      "34/34 - 0s - loss: 0.5126 - accuracy: 0.8327 - val_loss: 0.4733 - val_accuracy: 0.8333 - 112ms/epoch - 3ms/step\n",
      "Epoch 30/100\n",
      "34/34 - 0s - loss: 0.4986 - accuracy: 0.8435 - val_loss: 0.4641 - val_accuracy: 0.8333 - 128ms/epoch - 4ms/step\n",
      "Epoch 31/100\n",
      "34/34 - 0s - loss: 0.4967 - accuracy: 0.8429 - val_loss: 0.4552 - val_accuracy: 0.8500 - 124ms/epoch - 4ms/step\n",
      "Epoch 32/100\n",
      "34/34 - 0s - loss: 0.4836 - accuracy: 0.8440 - val_loss: 0.4464 - val_accuracy: 0.8619 - 139ms/epoch - 4ms/step\n",
      "Epoch 33/100\n",
      "34/34 - 0s - loss: 0.4800 - accuracy: 0.8429 - val_loss: 0.4380 - val_accuracy: 0.8619 - 134ms/epoch - 4ms/step\n",
      "Epoch 34/100\n",
      "34/34 - 0s - loss: 0.4713 - accuracy: 0.8536 - val_loss: 0.4299 - val_accuracy: 0.8762 - 126ms/epoch - 4ms/step\n",
      "Epoch 35/100\n",
      "34/34 - 0s - loss: 0.4656 - accuracy: 0.8595 - val_loss: 0.4221 - val_accuracy: 0.8762 - 125ms/epoch - 4ms/step\n",
      "Epoch 36/100\n",
      "34/34 - 0s - loss: 0.4616 - accuracy: 0.8571 - val_loss: 0.4144 - val_accuracy: 0.8857 - 133ms/epoch - 4ms/step\n",
      "Epoch 37/100\n",
      "34/34 - 0s - loss: 0.4509 - accuracy: 0.8637 - val_loss: 0.4070 - val_accuracy: 0.8857 - 134ms/epoch - 4ms/step\n",
      "Epoch 38/100\n",
      "34/34 - 0s - loss: 0.4381 - accuracy: 0.8696 - val_loss: 0.3997 - val_accuracy: 0.8929 - 162ms/epoch - 5ms/step\n",
      "Epoch 39/100\n",
      "34/34 - 0s - loss: 0.4369 - accuracy: 0.8637 - val_loss: 0.3925 - val_accuracy: 0.8929 - 132ms/epoch - 4ms/step\n",
      "Epoch 40/100\n",
      "34/34 - 0s - loss: 0.4272 - accuracy: 0.8768 - val_loss: 0.3854 - val_accuracy: 0.8929 - 133ms/epoch - 4ms/step\n",
      "Epoch 41/100\n",
      "34/34 - 0s - loss: 0.4230 - accuracy: 0.8696 - val_loss: 0.3789 - val_accuracy: 0.8929 - 131ms/epoch - 4ms/step\n",
      "Epoch 42/100\n",
      "34/34 - 0s - loss: 0.4232 - accuracy: 0.8720 - val_loss: 0.3725 - val_accuracy: 0.8952 - 130ms/epoch - 4ms/step\n",
      "Epoch 43/100\n",
      "34/34 - 0s - loss: 0.4139 - accuracy: 0.8792 - val_loss: 0.3665 - val_accuracy: 0.8952 - 131ms/epoch - 4ms/step\n",
      "Epoch 44/100\n",
      "34/34 - 0s - loss: 0.4038 - accuracy: 0.8845 - val_loss: 0.3602 - val_accuracy: 0.8952 - 138ms/epoch - 4ms/step\n",
      "Epoch 45/100\n",
      "34/34 - 0s - loss: 0.4007 - accuracy: 0.8786 - val_loss: 0.3546 - val_accuracy: 0.8952 - 131ms/epoch - 4ms/step\n",
      "Epoch 46/100\n",
      "34/34 - 0s - loss: 0.4006 - accuracy: 0.8804 - val_loss: 0.3491 - val_accuracy: 0.9119 - 132ms/epoch - 4ms/step\n",
      "Epoch 47/100\n",
      "34/34 - 0s - loss: 0.3919 - accuracy: 0.8804 - val_loss: 0.3438 - val_accuracy: 0.9119 - 120ms/epoch - 4ms/step\n",
      "Epoch 48/100\n",
      "34/34 - 0s - loss: 0.3864 - accuracy: 0.8911 - val_loss: 0.3387 - val_accuracy: 0.9119 - 120ms/epoch - 4ms/step\n",
      "Epoch 49/100\n",
      "34/34 - 0s - loss: 0.3820 - accuracy: 0.8887 - val_loss: 0.3337 - val_accuracy: 0.9119 - 120ms/epoch - 4ms/step\n",
      "Epoch 50/100\n",
      "34/34 - 0s - loss: 0.3804 - accuracy: 0.8833 - val_loss: 0.3291 - val_accuracy: 0.9119 - 119ms/epoch - 3ms/step\n",
      "Epoch 51/100\n",
      "34/34 - 0s - loss: 0.3771 - accuracy: 0.8881 - val_loss: 0.3243 - val_accuracy: 0.9214 - 121ms/epoch - 4ms/step\n",
      "Epoch 52/100\n",
      "34/34 - 0s - loss: 0.3693 - accuracy: 0.8935 - val_loss: 0.3200 - val_accuracy: 0.9214 - 125ms/epoch - 4ms/step\n",
      "Epoch 53/100\n",
      "34/34 - 0s - loss: 0.3630 - accuracy: 0.8940 - val_loss: 0.3157 - val_accuracy: 0.9214 - 110ms/epoch - 3ms/step\n",
      "Epoch 54/100\n",
      "34/34 - 0s - loss: 0.3617 - accuracy: 0.8952 - val_loss: 0.3115 - val_accuracy: 0.9214 - 129ms/epoch - 4ms/step\n",
      "Epoch 55/100\n",
      "34/34 - 0s - loss: 0.3661 - accuracy: 0.8970 - val_loss: 0.3078 - val_accuracy: 0.9214 - 98ms/epoch - 3ms/step\n",
      "Epoch 56/100\n",
      "34/34 - 0s - loss: 0.3592 - accuracy: 0.8851 - val_loss: 0.3041 - val_accuracy: 0.9333 - 102ms/epoch - 3ms/step\n",
      "Epoch 57/100\n",
      "34/34 - 0s - loss: 0.3534 - accuracy: 0.8976 - val_loss: 0.3006 - val_accuracy: 0.9333 - 97ms/epoch - 3ms/step\n",
      "Epoch 58/100\n",
      "34/34 - 0s - loss: 0.3585 - accuracy: 0.8863 - val_loss: 0.2973 - val_accuracy: 0.9333 - 97ms/epoch - 3ms/step\n",
      "Epoch 59/100\n",
      "34/34 - 0s - loss: 0.3498 - accuracy: 0.8970 - val_loss: 0.2942 - val_accuracy: 0.9333 - 99ms/epoch - 3ms/step\n",
      "Epoch 60/100\n",
      "34/34 - 0s - loss: 0.3532 - accuracy: 0.8952 - val_loss: 0.2911 - val_accuracy: 0.9333 - 100ms/epoch - 3ms/step\n",
      "Epoch 61/100\n",
      "34/34 - 0s - loss: 0.3433 - accuracy: 0.8982 - val_loss: 0.2881 - val_accuracy: 0.9333 - 110ms/epoch - 3ms/step\n",
      "Epoch 62/100\n",
      "34/34 - 0s - loss: 0.3437 - accuracy: 0.9018 - val_loss: 0.2851 - val_accuracy: 0.9333 - 99ms/epoch - 3ms/step\n",
      "Epoch 63/100\n",
      "34/34 - 0s - loss: 0.3423 - accuracy: 0.9006 - val_loss: 0.2824 - val_accuracy: 0.9429 - 106ms/epoch - 3ms/step\n",
      "Epoch 64/100\n",
      "34/34 - 0s - loss: 0.3319 - accuracy: 0.9030 - val_loss: 0.2798 - val_accuracy: 0.9333 - 113ms/epoch - 3ms/step\n",
      "Epoch 65/100\n",
      "34/34 - 0s - loss: 0.3382 - accuracy: 0.9012 - val_loss: 0.2772 - val_accuracy: 0.9333 - 106ms/epoch - 3ms/step\n",
      "Epoch 66/100\n",
      "34/34 - 0s - loss: 0.3311 - accuracy: 0.8964 - val_loss: 0.2749 - val_accuracy: 0.9333 - 112ms/epoch - 3ms/step\n"
     ]
    },
    {
     "name": "stdout",
     "output_type": "stream",
     "text": [
      "Epoch 67/100\n",
      "34/34 - 0s - loss: 0.3358 - accuracy: 0.9048 - val_loss: 0.2726 - val_accuracy: 0.9429 - 108ms/epoch - 3ms/step\n",
      "Epoch 68/100\n",
      "34/34 - 0s - loss: 0.3355 - accuracy: 0.9030 - val_loss: 0.2704 - val_accuracy: 0.9429 - 102ms/epoch - 3ms/step\n",
      "Epoch 69/100\n",
      "34/34 - 0s - loss: 0.3273 - accuracy: 0.8976 - val_loss: 0.2680 - val_accuracy: 0.9429 - 108ms/epoch - 3ms/step\n",
      "Epoch 70/100\n",
      "34/34 - 0s - loss: 0.3358 - accuracy: 0.9000 - val_loss: 0.2660 - val_accuracy: 0.9429 - 110ms/epoch - 3ms/step\n",
      "Epoch 71/100\n",
      "34/34 - 0s - loss: 0.3202 - accuracy: 0.9000 - val_loss: 0.2639 - val_accuracy: 0.9429 - 106ms/epoch - 3ms/step\n",
      "Epoch 72/100\n",
      "34/34 - 0s - loss: 0.3229 - accuracy: 0.8994 - val_loss: 0.2622 - val_accuracy: 0.9429 - 108ms/epoch - 3ms/step\n",
      "Epoch 73/100\n",
      "34/34 - 0s - loss: 0.3180 - accuracy: 0.9095 - val_loss: 0.2601 - val_accuracy: 0.9429 - 110ms/epoch - 3ms/step\n",
      "Epoch 74/100\n",
      "34/34 - 0s - loss: 0.3192 - accuracy: 0.9131 - val_loss: 0.2582 - val_accuracy: 0.9429 - 108ms/epoch - 3ms/step\n",
      "Epoch 75/100\n",
      "34/34 - 0s - loss: 0.3234 - accuracy: 0.9042 - val_loss: 0.2565 - val_accuracy: 0.9429 - 100ms/epoch - 3ms/step\n",
      "Epoch 76/100\n",
      "34/34 - 0s - loss: 0.3198 - accuracy: 0.9054 - val_loss: 0.2549 - val_accuracy: 0.9429 - 106ms/epoch - 3ms/step\n",
      "Epoch 77/100\n",
      "34/34 - 0s - loss: 0.3171 - accuracy: 0.9113 - val_loss: 0.2534 - val_accuracy: 0.9429 - 107ms/epoch - 3ms/step\n",
      "Epoch 78/100\n",
      "34/34 - 0s - loss: 0.3145 - accuracy: 0.9018 - val_loss: 0.2517 - val_accuracy: 0.9429 - 99ms/epoch - 3ms/step\n",
      "Epoch 79/100\n",
      "34/34 - 0s - loss: 0.3104 - accuracy: 0.9143 - val_loss: 0.2503 - val_accuracy: 0.9476 - 111ms/epoch - 3ms/step\n",
      "Epoch 80/100\n",
      "34/34 - 0s - loss: 0.3100 - accuracy: 0.9048 - val_loss: 0.2487 - val_accuracy: 0.9476 - 106ms/epoch - 3ms/step\n",
      "Epoch 81/100\n",
      "34/34 - 0s - loss: 0.3179 - accuracy: 0.9018 - val_loss: 0.2473 - val_accuracy: 0.9476 - 102ms/epoch - 3ms/step\n",
      "Epoch 82/100\n",
      "34/34 - 0s - loss: 0.3091 - accuracy: 0.9095 - val_loss: 0.2460 - val_accuracy: 0.9476 - 98ms/epoch - 3ms/step\n",
      "Epoch 83/100\n",
      "34/34 - 0s - loss: 0.3016 - accuracy: 0.9089 - val_loss: 0.2445 - val_accuracy: 0.9476 - 126ms/epoch - 4ms/step\n",
      "Epoch 84/100\n",
      "34/34 - 0s - loss: 0.3068 - accuracy: 0.9155 - val_loss: 0.2432 - val_accuracy: 0.9476 - 114ms/epoch - 3ms/step\n",
      "Epoch 85/100\n",
      "34/34 - 0s - loss: 0.3089 - accuracy: 0.9089 - val_loss: 0.2420 - val_accuracy: 0.9476 - 93ms/epoch - 3ms/step\n",
      "Epoch 86/100\n",
      "34/34 - 0s - loss: 0.3069 - accuracy: 0.9125 - val_loss: 0.2409 - val_accuracy: 0.9476 - 94ms/epoch - 3ms/step\n",
      "Epoch 87/100\n",
      "34/34 - 0s - loss: 0.3015 - accuracy: 0.9167 - val_loss: 0.2397 - val_accuracy: 0.9476 - 104ms/epoch - 3ms/step\n",
      "Epoch 88/100\n",
      "34/34 - 0s - loss: 0.2981 - accuracy: 0.9173 - val_loss: 0.2385 - val_accuracy: 0.9476 - 125ms/epoch - 4ms/step\n",
      "Epoch 89/100\n",
      "34/34 - 0s - loss: 0.3039 - accuracy: 0.9125 - val_loss: 0.2374 - val_accuracy: 0.9476 - 114ms/epoch - 3ms/step\n",
      "Epoch 90/100\n",
      "34/34 - 0s - loss: 0.3037 - accuracy: 0.9113 - val_loss: 0.2363 - val_accuracy: 0.9476 - 130ms/epoch - 4ms/step\n",
      "Epoch 91/100\n",
      "34/34 - 0s - loss: 0.3048 - accuracy: 0.9137 - val_loss: 0.2355 - val_accuracy: 0.9476 - 117ms/epoch - 3ms/step\n",
      "Epoch 92/100\n",
      "34/34 - 0s - loss: 0.2949 - accuracy: 0.9149 - val_loss: 0.2344 - val_accuracy: 0.9476 - 106ms/epoch - 3ms/step\n",
      "Epoch 93/100\n",
      "34/34 - 0s - loss: 0.3050 - accuracy: 0.9185 - val_loss: 0.2335 - val_accuracy: 0.9476 - 102ms/epoch - 3ms/step\n",
      "Epoch 94/100\n",
      "34/34 - 0s - loss: 0.2982 - accuracy: 0.9125 - val_loss: 0.2326 - val_accuracy: 0.9476 - 106ms/epoch - 3ms/step\n",
      "Epoch 95/100\n",
      "34/34 - 0s - loss: 0.2992 - accuracy: 0.9173 - val_loss: 0.2317 - val_accuracy: 0.9476 - 110ms/epoch - 3ms/step\n",
      "Epoch 96/100\n",
      "34/34 - 0s - loss: 0.2946 - accuracy: 0.9179 - val_loss: 0.2307 - val_accuracy: 0.9476 - 101ms/epoch - 3ms/step\n",
      "Epoch 97/100\n",
      "34/34 - 0s - loss: 0.2992 - accuracy: 0.9190 - val_loss: 0.2299 - val_accuracy: 0.9476 - 107ms/epoch - 3ms/step\n",
      "Epoch 98/100\n",
      "34/34 - 0s - loss: 0.3040 - accuracy: 0.9071 - val_loss: 0.2292 - val_accuracy: 0.9476 - 101ms/epoch - 3ms/step\n",
      "Epoch 99/100\n",
      "34/34 - 0s - loss: 0.2970 - accuracy: 0.9113 - val_loss: 0.2285 - val_accuracy: 0.9476 - 102ms/epoch - 3ms/step\n",
      "Epoch 100/100\n",
      "34/34 - 0s - loss: 0.2970 - accuracy: 0.9155 - val_loss: 0.2279 - val_accuracy: 0.9476 - 103ms/epoch - 3ms/step\n"
     ]
    },
    {
     "data": {
      "text/plain": [
       "<keras.callbacks.History at 0x18611aff4c0>"
      ]
     },
     "execution_count": 12,
     "metadata": {},
     "output_type": "execute_result"
    }
   ],
   "source": [
    "model.fit( x                = scaled_train_samples,\n",
    "           y                = train_labels,\n",
    "           epochs           = 100,\n",
    "           batch_size       = 50,\n",
    "           validation_split = 0.2,\n",
    "           shuffle          = True,\n",
    "           verbose          = 2\n",
    "         )"
   ]
  },
  {
   "cell_type": "code",
   "execution_count": 13,
   "metadata": {},
   "outputs": [],
   "source": [
    "# making test data and predicting"
   ]
  },
  {
   "cell_type": "code",
   "execution_count": 14,
   "metadata": {},
   "outputs": [],
   "source": [
    "test_samples, test_labels = [], []\n",
    "\n",
    "for i in range(50):\n",
    "    \n",
    "    # The ~5% of younger individuals who did experiance side-effects\n",
    "    random_younger = randint(13,64)\n",
    "    test_samples.append(random_younger)\n",
    "    test_labels.append(1)\n",
    "    \n",
    "    # The ~5% of older individuals who did not experiance side-effects\n",
    "    random_older = randint(65,100)\n",
    "    test_samples.append(random_older)\n",
    "    test_labels.append(0)\n",
    "    \n",
    "for i in range(1000):\n",
    "    \n",
    "    # The ~95% of younger individuals who did not experiance side-effects\n",
    "    random_younger = randint(13,64)\n",
    "    test_samples.append(random_younger)\n",
    "    test_labels.append(0)\n",
    "    \n",
    "    # The ~95% of older individuals who did experiance side-effects\n",
    "    random_older = randint(65,100)\n",
    "    test_samples.append(random_older)\n",
    "    test_labels.append(1)\n",
    "    \n",
    "test_samples, test_labels = np.array(test_samples), np.array(test_labels)\n",
    "test_samples, test_labels = shuffle(test_samples, test_labels)\n",
    "\n",
    "scaler = MinMaxScaler(feature_range=(0,1))\n",
    "scaled_test_samples = scaler.fit_transform( test_samples.reshape(-1,1) )"
   ]
  },
  {
   "cell_type": "code",
   "execution_count": 23,
   "metadata": {},
   "outputs": [
    {
     "name": "stdout",
     "output_type": "stream",
     "text": [
      "[0 0 1 0 1]\n"
     ]
    }
   ],
   "source": [
    "prediction = model.predict(\n",
    "    x          = scaled_test_samples,\n",
    "    batch_size = 1000,\n",
    "    verbose    = 0\n",
    "    )\n",
    "\n",
    "rounded_prediction = np.argmax( prediction, axis=-1 )\n",
    "print( rounded_prediction[:5] )"
   ]
  },
  {
   "cell_type": "code",
   "execution_count": 24,
   "metadata": {},
   "outputs": [],
   "source": [
    "# confusion matrix"
   ]
  },
  {
   "cell_type": "code",
   "execution_count": 25,
   "metadata": {},
   "outputs": [],
   "source": [
    "from sklearn.metrics import confusion_matrix, ConfusionMatrixDisplay\n",
    "import itertools"
   ]
  },
  {
   "cell_type": "code",
   "execution_count": 26,
   "metadata": {},
   "outputs": [
    {
     "data": {
      "image/png": "[encoded data removed]",
      "text/plain": [
       "<Figure size 640x480 with 2 Axes>"
      ]
     },
     "metadata": {},
     "output_type": "display_data"
    }
   ],
   "source": [
    "cm = confusion_matrix(\n",
    "    y_true = test_labels,\n",
    "    y_pred = rounded_prediction\n",
    "    )\n",
    "\n",
    "ConfusionMatrixDisplay(\n",
    "    confusion_matrix = cm,\n",
    "    display_labels   = ['No side-effects','Yes side-effects']\n",
    ").plot()\n",
    "plt.show()"
   ]
  },
  {
   "cell_type": "markdown",
   "metadata": {},
   "source": [
    "#####   "
   ]
  },
  {
   "cell_type": "markdown",
   "metadata": {},
   "source": [
    "#####   "
   ]
  },
  {
   "cell_type": "markdown",
   "metadata": {},
   "source": [
    "#####   "
   ]
  },
  {
   "cell_type": "markdown",
   "metadata": {},
   "source": [
    "#####   "
   ]
  }
 ],
 "metadata": {
  "kernelspec": {
   "display_name": "Python 3 (ipykernel)",
   "language": "python",
   "name": "python3"
  },
  "language_info": {
   "codemirror_mode": {
    "name": "ipython",
    "version": 3
   },
   "file_extension": ".py",
   "mimetype": "text/x-python",
   "name": "python",
   "nbconvert_exporter": "python",
   "pygments_lexer": "ipython3",
   "version": "3.10.9"
  }
 },
 "nbformat": 4,
 "nbformat_minor": 4
}
