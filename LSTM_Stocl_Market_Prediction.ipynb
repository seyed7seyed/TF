{
 "cells": [
  {
   "cell_type": "markdown",
   "metadata": {},
   "source": [
    "#####   \n",
    "<span style=\"font-family:Arial; font-weight:Bold; font-size:2.5em; color:#00b3e5;\"> LSTM - Stock Market Prediction"
   ]
  },
  {
   "cell_type": "code",
   "execution_count": 1,
   "metadata": {},
   "outputs": [],
   "source": [
    "import numpy  as np\n",
    "import pandas as pd\n",
    "import matplotlib.pyplot as plt\n",
    "from sklearn.preprocessing import MinMaxScaler\n",
    "from keras.models     import Sequential\n",
    "from keras.layers     import LSTM, Dropout, Dense, Activation, SimpleRNN, TimeDistributed\n",
    "from keras.optimizers import Adam\n",
    "from tensorflow.keras.preprocessing.sequence import TimeseriesGenerator"
   ]
  },
  {
   "cell_type": "code",
   "execution_count": 2,
   "metadata": {},
   "outputs": [],
   "source": [
    "Project_Name = 'Google_Stock_Price'\n",
    "cycle_n      =  20"
   ]
  },
  {
   "cell_type": "code",
   "execution_count": 3,
   "metadata": {},
   "outputs": [
    {
     "name": "stdout",
     "output_type": "stream",
     "text": [
      "(1258, 6) (20, 6)\n"
     ]
    },
    {
     "data": {
      "text/html": [
       "<div>\n",
       "<style scoped>\n",
       "    .dataframe tbody tr th:only-of-type {\n",
       "        vertical-align: middle;\n",
       "    }\n",
       "\n",
       "    .dataframe tbody tr th {\n",
       "        vertical-align: top;\n",
       "    }\n",
       "\n",
       "    .dataframe thead th {\n",
       "        text-align: right;\n",
       "    }\n",
       "</style>\n",
       "<table border=\"1\" class=\"dataframe\">\n",
       "  <thead>\n",
       "    <tr style=\"text-align: right;\">\n",
       "      <th></th>\n",
       "      <th>Date</th>\n",
       "      <th>Open</th>\n",
       "      <th>High</th>\n",
       "      <th>Low</th>\n",
       "      <th>Close</th>\n",
       "      <th>Volume</th>\n",
       "    </tr>\n",
       "  </thead>\n",
       "  <tbody>\n",
       "    <tr>\n",
       "      <th>0</th>\n",
       "      <td>1/3/2012</td>\n",
       "      <td>325.25</td>\n",
       "      <td>332.83</td>\n",
       "      <td>324.97</td>\n",
       "      <td>663.59</td>\n",
       "      <td>7,380,500</td>\n",
       "    </tr>\n",
       "    <tr>\n",
       "      <th>1</th>\n",
       "      <td>1/4/2012</td>\n",
       "      <td>331.27</td>\n",
       "      <td>333.87</td>\n",
       "      <td>329.08</td>\n",
       "      <td>666.45</td>\n",
       "      <td>5,749,400</td>\n",
       "    </tr>\n",
       "    <tr>\n",
       "      <th>2</th>\n",
       "      <td>1/5/2012</td>\n",
       "      <td>329.83</td>\n",
       "      <td>330.75</td>\n",
       "      <td>326.89</td>\n",
       "      <td>657.21</td>\n",
       "      <td>6,590,300</td>\n",
       "    </tr>\n",
       "  </tbody>\n",
       "</table>\n",
       "</div>"
      ],
      "text/plain": [
       "       Date    Open    High     Low   Close     Volume\n",
       "0  1/3/2012  325.25  332.83  324.97  663.59  7,380,500\n",
       "1  1/4/2012  331.27  333.87  329.08  666.45  5,749,400\n",
       "2  1/5/2012  329.83  330.75  326.89  657.21  6,590,300"
      ]
     },
     "execution_count": 3,
     "metadata": {},
     "output_type": "execute_result"
    }
   ],
   "source": [
    "timeseries = pd.read_csv('Google_Stock_Price_Train.csv')\n",
    "train      = pd.read_csv('Google_Stock_Price_Train.csv')\n",
    "test       = pd.read_csv('Google_Stock_Price_Test.csv')        \n",
    "print( timeseries.shape, test.shape )\n",
    "timeseries.head(3)"
   ]
  },
  {
   "cell_type": "code",
   "execution_count": 4,
   "metadata": {
    "scrolled": true
   },
   "outputs": [
    {
     "data": {
      "text/plain": [
       "0       325.25\n",
       "1       331.27\n",
       "2       329.83\n",
       "3       328.34\n",
       "4       322.04\n",
       "         ...  \n",
       "1253    790.90\n",
       "1254    790.68\n",
       "1255    793.70\n",
       "1256    783.33\n",
       "1257    782.75\n",
       "Name: Open, Length: 1258, dtype: float64"
      ]
     },
     "execution_count": 4,
     "metadata": {},
     "output_type": "execute_result"
    }
   ],
   "source": [
    "timeseries = timeseries['Open']\n",
    "train      = train['Open']\n",
    "test       = test['Open']\n",
    "timeseries"
   ]
  },
  {
   "cell_type": "code",
   "execution_count": 5,
   "metadata": {},
   "outputs": [
    {
     "data": {
      "text/html": [
       "<div>\n",
       "<style scoped>\n",
       "    .dataframe tbody tr th:only-of-type {\n",
       "        vertical-align: middle;\n",
       "    }\n",
       "\n",
       "    .dataframe tbody tr th {\n",
       "        vertical-align: top;\n",
       "    }\n",
       "\n",
       "    .dataframe thead th {\n",
       "        text-align: right;\n",
       "    }\n",
       "</style>\n",
       "<table border=\"1\" class=\"dataframe\">\n",
       "  <thead>\n",
       "    <tr style=\"text-align: right;\">\n",
       "      <th></th>\n",
       "      <th>Open</th>\n",
       "    </tr>\n",
       "  </thead>\n",
       "  <tbody>\n",
       "    <tr>\n",
       "      <th>0</th>\n",
       "      <td>325.25</td>\n",
       "    </tr>\n",
       "    <tr>\n",
       "      <th>1</th>\n",
       "      <td>331.27</td>\n",
       "    </tr>\n",
       "    <tr>\n",
       "      <th>2</th>\n",
       "      <td>329.83</td>\n",
       "    </tr>\n",
       "  </tbody>\n",
       "</table>\n",
       "</div>"
      ],
      "text/plain": [
       "     Open\n",
       "0  325.25\n",
       "1  331.27\n",
       "2  329.83"
      ]
     },
     "execution_count": 5,
     "metadata": {},
     "output_type": "execute_result"
    }
   ],
   "source": [
    "timeseries.reset_index( drop=True, inplace=True )\n",
    "train.reset_index(      drop=True, inplace=True )\n",
    "test.reset_index(       drop=True, inplace=True )\n",
    "\n",
    "timeseries = pd.DataFrame( timeseries ) \n",
    "train      = pd.DataFrame( train      ) \n",
    "test       = pd.DataFrame( test       ) \n",
    "\n",
    "timeseries.head(3)"
   ]
  },
  {
   "cell_type": "code",
   "execution_count": 6,
   "metadata": {
    "scrolled": false
   },
   "outputs": [
    {
     "name": "stderr",
     "output_type": "stream",
     "text": [
      "C:\\ProgramData\\anaconda3\\lib\\site-packages\\sklearn\\utils\\validation.py:767: FutureWarning: is_sparse is deprecated and will be removed in a future version. Check `isinstance(dtype, pd.SparseDtype)` instead.\n",
      "  if not hasattr(array, \"sparse\") and array.dtypes.apply(is_sparse).any():\n",
      "C:\\ProgramData\\anaconda3\\lib\\site-packages\\sklearn\\utils\\validation.py:605: FutureWarning: is_sparse is deprecated and will be removed in a future version. Check `isinstance(dtype, pd.SparseDtype)` instead.\n",
      "  if is_sparse(pd_dtype):\n",
      "C:\\ProgramData\\anaconda3\\lib\\site-packages\\sklearn\\utils\\validation.py:614: FutureWarning: is_sparse is deprecated and will be removed in a future version. Check `isinstance(dtype, pd.SparseDtype)` instead.\n",
      "  if is_sparse(pd_dtype) or not is_extension_array_dtype(pd_dtype):\n",
      "C:\\ProgramData\\anaconda3\\lib\\site-packages\\sklearn\\utils\\validation.py:767: FutureWarning: is_sparse is deprecated and will be removed in a future version. Check `isinstance(dtype, pd.SparseDtype)` instead.\n",
      "  if not hasattr(array, \"sparse\") and array.dtypes.apply(is_sparse).any():\n",
      "C:\\ProgramData\\anaconda3\\lib\\site-packages\\sklearn\\utils\\validation.py:605: FutureWarning: is_sparse is deprecated and will be removed in a future version. Check `isinstance(dtype, pd.SparseDtype)` instead.\n",
      "  if is_sparse(pd_dtype):\n",
      "C:\\ProgramData\\anaconda3\\lib\\site-packages\\sklearn\\utils\\validation.py:614: FutureWarning: is_sparse is deprecated and will be removed in a future version. Check `isinstance(dtype, pd.SparseDtype)` instead.\n",
      "  if is_sparse(pd_dtype) or not is_extension_array_dtype(pd_dtype):\n"
     ]
    }
   ],
   "source": [
    "scaler = MinMaxScaler()\n",
    "scaler.fit( timeseries )\n",
    "\n",
    "timeseries = scaler.transform( timeseries )"
   ]
  },
  {
   "cell_type": "code",
   "execution_count": 7,
   "metadata": {},
   "outputs": [
    {
     "name": "stdout",
     "output_type": "stream",
     "text": [
      "Help on class TimeseriesGenerator in module keras.preprocessing.sequence:\n",
      "\n",
      "class TimeseriesGenerator(keras.utils.data_utils.Sequence)\n",
      " |  TimeseriesGenerator(data, targets, length, sampling_rate=1, stride=1, start_index=0, end_index=None, shuffle=False, reverse=False, batch_size=128)\n",
      " |  \n",
      " |  Utility class for generating batches of temporal data.\n",
      " |  \n",
      " |  Deprecated: `tf.keras.preprocessing.sequence.TimeseriesGenerator` does not\n",
      " |  operate on tensors and is not recommended for new code. Prefer using a\n",
      " |  `tf.data.Dataset` which provides a more efficient and flexible mechanism for\n",
      " |  batching, shuffling, and windowing input. See the\n",
      " |  [tf.data guide](https://www.tensorflow.org/guide/data) for more details.\n",
      " |  \n",
      " |  This class takes in a sequence of data-points gathered at\n",
      " |  equal intervals, along with time series parameters such as\n",
      " |  stride, length of history, etc., to produce batches for\n",
      " |  training/validation.\n",
      " |  \n",
      " |  Arguments:\n",
      " |      data: Indexable generator (such as list or Numpy array)\n",
      " |          containing consecutive data points (timesteps).\n",
      " |          The data should be at 2D, and axis 0 is expected\n",
      " |          to be the time dimension.\n",
      " |      targets: Targets corresponding to timesteps in `data`.\n",
      " |          It should have same length as `data`.\n",
      " |      length: Length of the output sequences (in number of timesteps).\n",
      " |      sampling_rate: Period between successive individual timesteps\n",
      " |          within sequences. For rate `r`, timesteps\n",
      " |          `data[i]`, `data[i-r]`, ... `data[i - length]`\n",
      " |          are used for create a sample sequence.\n",
      " |      stride: Period between successive output sequences.\n",
      " |          For stride `s`, consecutive output samples would\n",
      " |          be centered around `data[i]`, `data[i+s]`, `data[i+2*s]`, etc.\n",
      " |      start_index: Data points earlier than `start_index` will not be used\n",
      " |          in the output sequences. This is useful to reserve part of the\n",
      " |          data for test or validation.\n",
      " |      end_index: Data points later than `end_index` will not be used\n",
      " |          in the output sequences. This is useful to reserve part of the\n",
      " |          data for test or validation.\n",
      " |      shuffle: Whether to shuffle output samples,\n",
      " |          or instead draw them in chronological order.\n",
      " |      reverse: Boolean: if `true`, timesteps in each output sample will be\n",
      " |          in reverse chronological order.\n",
      " |      batch_size: Number of timeseries samples in each batch\n",
      " |          (except maybe the last one).\n",
      " |  \n",
      " |  Returns:\n",
      " |      A [Sequence](\n",
      " |      https://www.tensorflow.org/api_docs/python/tf/keras/utils/Sequence)\n",
      " |      instance.\n",
      " |  \n",
      " |  Examples:\n",
      " |      ```python\n",
      " |      from keras.preprocessing.sequence import TimeseriesGenerator\n",
      " |      import numpy as np\n",
      " |      data = np.array([[i] for i in range(50)])\n",
      " |      targets = np.array([[i] for i in range(50)])\n",
      " |      data_gen = TimeseriesGenerator(data, targets,\n",
      " |                                     length=10, sampling_rate=2,\n",
      " |                                     batch_size=2)\n",
      " |      assert len(data_gen) == 20\n",
      " |      batch_0 = data_gen[0]\n",
      " |      x, y = batch_0\n",
      " |      assert np.array_equal(x,\n",
      " |                            np.array([[[0], [2], [4], [6], [8]],\n",
      " |                                      [[1], [3], [5], [7], [9]]]))\n",
      " |      assert np.array_equal(y,\n",
      " |                            np.array([[10], [11]]))\n",
      " |      ```\n",
      " |  \n",
      " |  Method resolution order:\n",
      " |      TimeseriesGenerator\n",
      " |      keras.utils.data_utils.Sequence\n",
      " |      builtins.object\n",
      " |  \n",
      " |  Methods defined here:\n",
      " |  \n",
      " |  __getitem__(self, index)\n",
      " |      Gets batch at position `index`.\n",
      " |      \n",
      " |      Args:\n",
      " |          index: position of the batch in the Sequence.\n",
      " |      \n",
      " |      Returns:\n",
      " |          A batch\n",
      " |  \n",
      " |  __init__(self, data, targets, length, sampling_rate=1, stride=1, start_index=0, end_index=None, shuffle=False, reverse=False, batch_size=128)\n",
      " |      Initialize self.  See help(type(self)) for accurate signature.\n",
      " |  \n",
      " |  __len__(self)\n",
      " |      Number of batch in the Sequence.\n",
      " |      \n",
      " |      Returns:\n",
      " |          The number of batches in the Sequence.\n",
      " |  \n",
      " |  get_config(self)\n",
      " |      Returns the TimeseriesGenerator configuration as Python dictionary.\n",
      " |      \n",
      " |      Returns:\n",
      " |          A Python dictionary with the TimeseriesGenerator configuration.\n",
      " |  \n",
      " |  to_json(self, **kwargs)\n",
      " |      Returns a JSON string containing the generator's configuration.\n",
      " |      \n",
      " |      Args:\n",
      " |          **kwargs: Additional keyword arguments to be passed\n",
      " |              to `json.dumps()`.\n",
      " |      \n",
      " |      Returns:\n",
      " |          A JSON string containing the tokenizer configuration.\n",
      " |  \n",
      " |  ----------------------------------------------------------------------\n",
      " |  Methods inherited from keras.utils.data_utils.Sequence:\n",
      " |  \n",
      " |  __iter__(self)\n",
      " |      Create a generator that iterate over the Sequence.\n",
      " |  \n",
      " |  on_epoch_end(self)\n",
      " |      Method called at the end of every epoch.\n",
      " |  \n",
      " |  ----------------------------------------------------------------------\n",
      " |  Data descriptors inherited from keras.utils.data_utils.Sequence:\n",
      " |  \n",
      " |  __dict__\n",
      " |      dictionary for instance variables (if defined)\n",
      " |  \n",
      " |  __weakref__\n",
      " |      list of weak references to the object (if defined)\n",
      "\n"
     ]
    }
   ],
   "source": [
    "help( TimeseriesGenerator )"
   ]
  },
  {
   "cell_type": "code",
   "execution_count": 8,
   "metadata": {},
   "outputs": [
    {
     "name": "stdout",
     "output_type": "stream",
     "text": [
      "(1258, 1) (20, 1)\n"
     ]
    }
   ],
   "source": [
    "print( train.shape, test.shape )"
   ]
  },
  {
   "cell_type": "code",
   "execution_count": 9,
   "metadata": {},
   "outputs": [
    {
     "data": {
      "text/plain": [
       "<keras.preprocessing.sequence.TimeseriesGenerator at 0x2abefd0b880>"
      ]
     },
     "execution_count": 9,
     "metadata": {},
     "output_type": "execute_result"
    }
   ],
   "source": [
    "length     = 20\n",
    "batch_size = 256\n",
    "generator  = TimeseriesGenerator( timeseries, timeseries, length=length, batch_size=batch_size )\n",
    "generator"
   ]
  },
  {
   "cell_type": "code",
   "execution_count": 10,
   "metadata": {},
   "outputs": [
    {
     "name": "stdout",
     "output_type": "stream",
     "text": [
      "Model: \"sequential\"\n",
      "_________________________________________________________________\n",
      " Layer (type)                Output Shape              Param #   \n",
      "=================================================================\n",
      " simple_rnn (SimpleRNN)      (None, 500)               251000    \n",
      "                                                                 \n",
      " dropout (Dropout)           (None, 500)               0         \n",
      "                                                                 \n",
      " dense (Dense)               (None, 200)               100200    \n",
      "                                                                 \n",
      " dropout_1 (Dropout)         (None, 200)               0         \n",
      "                                                                 \n",
      " dense_1 (Dense)             (None, 200)               40200     \n",
      "                                                                 \n",
      " dense_2 (Dense)             (None, 200)               40200     \n",
      "                                                                 \n",
      " dense_3 (Dense)             (None, 1)                 201       \n",
      "                                                                 \n",
      "=================================================================\n",
      "Total params: 431,801\n",
      "Trainable params: 431,801\n",
      "Non-trainable params: 0\n",
      "_________________________________________________________________\n"
     ]
    }
   ],
   "source": [
    "n_features = 1\n",
    "model = Sequential()\n",
    "model.add( SimpleRNN(500,activation='relu',input_shape=(length,n_features)) )\n",
    "model.add( Dropout(rate=0.20) )\n",
    "model.add( Dense(200,activation='relu') )\n",
    "model.add( Dropout(rate=0.05) )\n",
    "model.add( Dense(200,activation='relu') )\n",
    "model.add( Dense(200) )\n",
    "model.add( Dense(1)  )\n",
    "model.summary()"
   ]
  },
  {
   "cell_type": "code",
   "execution_count": 11,
   "metadata": {},
   "outputs": [],
   "source": [
    "model.compile( optimizer=Adam(learning_rate=0.001), loss='mse', metrics=['mae','accuracy'] )"
   ]
  },
  {
   "cell_type": "code",
   "execution_count": 12,
   "metadata": {
    "scrolled": true
   },
   "outputs": [
    {
     "name": "stdout",
     "output_type": "stream",
     "text": [
      "Epoch 1/5\n",
      "5/5 [==============================] - 3s 289ms/step - loss: 0.0187 - mae: 0.1126 - accuracy: 0.0016\n",
      "Epoch 2/5\n",
      "5/5 [==============================] - 2s 308ms/step - loss: 0.0119 - mae: 0.0948 - accuracy: 0.0016\n",
      "Epoch 3/5\n",
      "5/5 [==============================] - 2s 329ms/step - loss: 0.0188 - mae: 0.1248 - accuracy: 0.0016\n",
      "Epoch 4/5\n",
      "5/5 [==============================] - 2s 298ms/step - loss: 0.0078 - mae: 0.0740 - accuracy: 0.0016\n",
      "Epoch 5/5\n",
      "5/5 [==============================] - 2s 330ms/step - loss: 0.0137 - mae: 0.0989 - accuracy: 0.0016\n"
     ]
    },
    {
     "data": {
      "text/plain": [
       "<keras.callbacks.History at 0x2abfea603d0>"
      ]
     },
     "execution_count": 12,
     "metadata": {},
     "output_type": "execute_result"
    }
   ],
   "source": [
    "model.fit( generator, epochs=5, shuffle=False )"
   ]
  },
  {
   "cell_type": "code",
   "execution_count": 13,
   "metadata": {
    "scrolled": false
   },
   "outputs": [
    {
     "data": {
      "text/plain": [
       "<Axes: >"
      ]
     },
     "execution_count": 13,
     "metadata": {},
     "output_type": "execute_result"
    },
    {
     "data": {
      "image/png": "[encoded data removed]",
      "text/plain": [
       "<Figure size 640x480 with 1 Axes>"
      ]
     },
     "metadata": {},
     "output_type": "display_data"
    }
   ],
   "source": [
    "losses = pd.DataFrame( model.history.history )\n",
    "losses.plot()"
   ]
  },
  {
   "cell_type": "markdown",
   "metadata": {},
   "source": [
    "## Eval Test"
   ]
  },
  {
   "cell_type": "code",
   "execution_count": 14,
   "metadata": {},
   "outputs": [
    {
     "data": {
      "text/plain": [
       "array([[0.86589404],\n",
       "       [0.89030062],\n",
       "       [0.90335962],\n",
       "       [0.89642086],\n",
       "       [0.91777662],\n",
       "       [0.93176576],\n",
       "       [0.94114145],\n",
       "       [0.95762334],\n",
       "       [0.96413424],\n",
       "       [0.96402262],\n",
       "       [0.96971501],\n",
       "       [0.95077759],\n",
       "       [0.96294367],\n",
       "       [0.96123223],\n",
       "       [0.95475854],\n",
       "       [0.95204256],\n",
       "       [0.95163331],\n",
       "       [0.95725128],\n",
       "       [0.93796041],\n",
       "       [0.93688146]])"
      ]
     },
     "execution_count": 14,
     "metadata": {},
     "output_type": "execute_result"
    }
   ],
   "source": [
    "# picking last values in  timeseries\n",
    "first_eval_batch = timeseries[-length:]\n",
    "first_eval_batch"
   ]
  },
  {
   "cell_type": "code",
   "execution_count": 15,
   "metadata": {},
   "outputs": [
    {
     "data": {
      "text/plain": [
       "array([[[0.86589404],\n",
       "        [0.89030062],\n",
       "        [0.90335962],\n",
       "        [0.89642086],\n",
       "        [0.91777662],\n",
       "        [0.93176576],\n",
       "        [0.94114145],\n",
       "        [0.95762334],\n",
       "        [0.96413424],\n",
       "        [0.96402262],\n",
       "        [0.96971501],\n",
       "        [0.95077759],\n",
       "        [0.96294367],\n",
       "        [0.96123223],\n",
       "        [0.95475854],\n",
       "        [0.95204256],\n",
       "        [0.95163331],\n",
       "        [0.95725128],\n",
       "        [0.93796041],\n",
       "        [0.93688146]]])"
      ]
     },
     "execution_count": 15,
     "metadata": {},
     "output_type": "execute_result"
    }
   ],
   "source": [
    "first_eval_batch = first_eval_batch.reshape((1,length,1))\n",
    "first_eval_batch"
   ]
  },
  {
   "cell_type": "code",
   "execution_count": 16,
   "metadata": {},
   "outputs": [
    {
     "name": "stdout",
     "output_type": "stream",
     "text": [
      "1/1 [==============================] - 0s 229ms/step\n"
     ]
    },
    {
     "data": {
      "text/plain": [
       "array([[0.75716144]], dtype=float32)"
      ]
     },
     "execution_count": 16,
     "metadata": {},
     "output_type": "execute_result"
    }
   ],
   "source": [
    "model.predict(first_eval_batch)  # first prediction is the first value of test"
   ]
  },
  {
   "cell_type": "code",
   "execution_count": 17,
   "metadata": {},
   "outputs": [
    {
     "data": {
      "text/plain": [
       "array([[[0.86589404],\n",
       "        [0.89030062],\n",
       "        [0.90335962],\n",
       "        [0.89642086],\n",
       "        [0.91777662],\n",
       "        [0.93176576],\n",
       "        [0.94114145],\n",
       "        [0.95762334],\n",
       "        [0.96413424],\n",
       "        [0.96402262],\n",
       "        [0.96971501],\n",
       "        [0.95077759],\n",
       "        [0.96294367],\n",
       "        [0.96123223],\n",
       "        [0.95475854],\n",
       "        [0.95204256],\n",
       "        [0.95163331],\n",
       "        [0.95725128],\n",
       "        [0.93796041],\n",
       "        [0.93688146]]])"
      ]
     },
     "execution_count": 17,
     "metadata": {},
     "output_type": "execute_result"
    }
   ],
   "source": [
    "test_predictions = []\n",
    "\n",
    "first_eval_batch = timeseries[-length:]\n",
    "current_batch    = first_eval_batch.reshape((1,length,n_features))\n",
    "current_batch"
   ]
  },
  {
   "cell_type": "code",
   "execution_count": 18,
   "metadata": {},
   "outputs": [
    {
     "name": "stdout",
     "output_type": "stream",
     "text": [
      "1/1 [==============================] - 0s 28ms/step\n",
      "1/1 [==============================] - 0s 26ms/step\n",
      "1/1 [==============================] - 0s 25ms/step\n",
      "1/1 [==============================] - 0s 26ms/step\n",
      "1/1 [==============================] - 0s 25ms/step\n",
      "1/1 [==============================] - 0s 26ms/step\n",
      "1/1 [==============================] - 0s 26ms/step\n",
      "1/1 [==============================] - 0s 26ms/step\n",
      "1/1 [==============================] - 0s 26ms/step\n",
      "1/1 [==============================] - 0s 25ms/step\n",
      "1/1 [==============================] - 0s 25ms/step\n",
      "1/1 [==============================] - 0s 25ms/step\n",
      "1/1 [==============================] - 0s 25ms/step\n",
      "1/1 [==============================] - 0s 37ms/step\n",
      "1/1 [==============================] - 0s 25ms/step\n",
      "1/1 [==============================] - 0s 24ms/step\n",
      "1/1 [==============================] - 0s 25ms/step\n",
      "1/1 [==============================] - 0s 25ms/step\n",
      "1/1 [==============================] - 0s 25ms/step\n",
      "1/1 [==============================] - 0s 25ms/step\n"
     ]
    },
    {
     "data": {
      "text/plain": [
       "[array([0.75716144], dtype=float32),\n",
       " array([0.65695995], dtype=float32),\n",
       " array([0.54380614], dtype=float32),\n",
       " array([0.4351144], dtype=float32),\n",
       " array([0.33963433], dtype=float32),\n",
       " array([0.2599602], dtype=float32),\n",
       " array([0.19537677], dtype=float32),\n",
       " array([0.14632273], dtype=float32),\n",
       " array([0.11257652], dtype=float32),\n",
       " array([0.09050924], dtype=float32),\n",
       " array([0.07839118], dtype=float32),\n",
       " array([0.07298217], dtype=float32),\n",
       " array([0.07080079], dtype=float32),\n",
       " array([0.06981871], dtype=float32),\n",
       " array([0.06933939], dtype=float32),\n",
       " array([0.06910591], dtype=float32),\n",
       " array([0.069038], dtype=float32),\n",
       " array([0.06902558], dtype=float32),\n",
       " array([0.06902946], dtype=float32),\n",
       " array([0.06904323], dtype=float32)]"
      ]
     },
     "execution_count": 18,
     "metadata": {},
     "output_type": "execute_result"
    }
   ],
   "source": [
    "for i in range( len(test) ):\n",
    "    current_pred = model.predict(current_batch)[0]\n",
    "    test_predictions.append(current_pred)\n",
    "    current_batch = np.append(current_batch[:,1:,:],[[current_pred]],axis=1)\n",
    "\n",
    "test_predictions"
   ]
  },
  {
   "cell_type": "code",
   "execution_count": 19,
   "metadata": {},
   "outputs": [
    {
     "data": {
      "text/plain": [
       "array([[686.13970286],\n",
       "       [632.27539122],\n",
       "       [571.44842628],\n",
       "       [513.02010412],\n",
       "       [461.69382994],\n",
       "       [418.86420746],\n",
       "       [384.14673579],\n",
       "       [357.77724524],\n",
       "       [339.63663513],\n",
       "       [327.77414883],\n",
       "       [321.25996242],\n",
       "       [318.35229514],\n",
       "       [317.17967197],\n",
       "       [316.65174724],\n",
       "       [316.39408094],\n",
       "       [316.26857205],\n",
       "       [316.23206926],\n",
       "       [316.2253927 ],\n",
       "       [316.22747537],\n",
       "       [316.23488086]])"
      ]
     },
     "execution_count": 19,
     "metadata": {},
     "output_type": "execute_result"
    }
   ],
   "source": [
    "true_predictions = scaler.inverse_transform( test_predictions )\n",
    "true_predictions"
   ]
  },
  {
   "cell_type": "code",
   "execution_count": 20,
   "metadata": {},
   "outputs": [
    {
     "data": {
      "text/html": [
       "<div>\n",
       "<style scoped>\n",
       "    .dataframe tbody tr th:only-of-type {\n",
       "        vertical-align: middle;\n",
       "    }\n",
       "\n",
       "    .dataframe tbody tr th {\n",
       "        vertical-align: top;\n",
       "    }\n",
       "\n",
       "    .dataframe thead th {\n",
       "        text-align: right;\n",
       "    }\n",
       "</style>\n",
       "<table border=\"1\" class=\"dataframe\">\n",
       "  <thead>\n",
       "    <tr style=\"text-align: right;\">\n",
       "      <th></th>\n",
       "      <th>Open</th>\n",
       "      <th>Pred</th>\n",
       "    </tr>\n",
       "  </thead>\n",
       "  <tbody>\n",
       "    <tr>\n",
       "      <th>0</th>\n",
       "      <td>778.81</td>\n",
       "      <td>686.139703</td>\n",
       "    </tr>\n",
       "    <tr>\n",
       "      <th>1</th>\n",
       "      <td>788.36</td>\n",
       "      <td>632.275391</td>\n",
       "    </tr>\n",
       "    <tr>\n",
       "      <th>2</th>\n",
       "      <td>786.08</td>\n",
       "      <td>571.448426</td>\n",
       "    </tr>\n",
       "    <tr>\n",
       "      <th>3</th>\n",
       "      <td>795.26</td>\n",
       "      <td>513.020104</td>\n",
       "    </tr>\n",
       "    <tr>\n",
       "      <th>4</th>\n",
       "      <td>806.40</td>\n",
       "      <td>461.693830</td>\n",
       "    </tr>\n",
       "    <tr>\n",
       "      <th>5</th>\n",
       "      <td>807.86</td>\n",
       "      <td>418.864207</td>\n",
       "    </tr>\n",
       "    <tr>\n",
       "      <th>6</th>\n",
       "      <td>805.00</td>\n",
       "      <td>384.146736</td>\n",
       "    </tr>\n",
       "    <tr>\n",
       "      <th>7</th>\n",
       "      <td>807.14</td>\n",
       "      <td>357.777245</td>\n",
       "    </tr>\n",
       "    <tr>\n",
       "      <th>8</th>\n",
       "      <td>807.48</td>\n",
       "      <td>339.636635</td>\n",
       "    </tr>\n",
       "    <tr>\n",
       "      <th>9</th>\n",
       "      <td>807.08</td>\n",
       "      <td>327.774149</td>\n",
       "    </tr>\n",
       "    <tr>\n",
       "      <th>10</th>\n",
       "      <td>805.81</td>\n",
       "      <td>321.259962</td>\n",
       "    </tr>\n",
       "    <tr>\n",
       "      <th>11</th>\n",
       "      <td>805.12</td>\n",
       "      <td>318.352295</td>\n",
       "    </tr>\n",
       "    <tr>\n",
       "      <th>12</th>\n",
       "      <td>806.91</td>\n",
       "      <td>317.179672</td>\n",
       "    </tr>\n",
       "    <tr>\n",
       "      <th>13</th>\n",
       "      <td>807.25</td>\n",
       "      <td>316.651747</td>\n",
       "    </tr>\n",
       "    <tr>\n",
       "      <th>14</th>\n",
       "      <td>822.30</td>\n",
       "      <td>316.394081</td>\n",
       "    </tr>\n",
       "    <tr>\n",
       "      <th>15</th>\n",
       "      <td>829.62</td>\n",
       "      <td>316.268572</td>\n",
       "    </tr>\n",
       "    <tr>\n",
       "      <th>16</th>\n",
       "      <td>837.81</td>\n",
       "      <td>316.232069</td>\n",
       "    </tr>\n",
       "    <tr>\n",
       "      <th>17</th>\n",
       "      <td>834.71</td>\n",
       "      <td>316.225393</td>\n",
       "    </tr>\n",
       "    <tr>\n",
       "      <th>18</th>\n",
       "      <td>814.66</td>\n",
       "      <td>316.227475</td>\n",
       "    </tr>\n",
       "    <tr>\n",
       "      <th>19</th>\n",
       "      <td>796.86</td>\n",
       "      <td>316.234881</td>\n",
       "    </tr>\n",
       "  </tbody>\n",
       "</table>\n",
       "</div>"
      ],
      "text/plain": [
       "      Open        Pred\n",
       "0   778.81  686.139703\n",
       "1   788.36  632.275391\n",
       "2   786.08  571.448426\n",
       "3   795.26  513.020104\n",
       "4   806.40  461.693830\n",
       "5   807.86  418.864207\n",
       "6   805.00  384.146736\n",
       "7   807.14  357.777245\n",
       "8   807.48  339.636635\n",
       "9   807.08  327.774149\n",
       "10  805.81  321.259962\n",
       "11  805.12  318.352295\n",
       "12  806.91  317.179672\n",
       "13  807.25  316.651747\n",
       "14  822.30  316.394081\n",
       "15  829.62  316.268572\n",
       "16  837.81  316.232069\n",
       "17  834.71  316.225393\n",
       "18  814.66  316.227475\n",
       "19  796.86  316.234881"
      ]
     },
     "execution_count": 20,
     "metadata": {},
     "output_type": "execute_result"
    }
   ],
   "source": [
    "test['Pred'] = true_predictions\n",
    "test"
   ]
  },
  {
   "cell_type": "code",
   "execution_count": 339,
   "metadata": {},
   "outputs": [
    {
     "data": {
      "text/plain": [
       "<Axes: >"
      ]
     },
     "execution_count": 339,
     "metadata": {},
     "output_type": "execute_result"
    },
    {
     "data": {
      "image/png": "[encoded data removed]",
      "text/plain": [
       "<Figure size 1200x300 with 1 Axes>"
      ]
     },
     "metadata": {},
     "output_type": "display_data"
    }
   ],
   "source": [
    "test.plot(figsize=(12,3))"
   ]
  },
  {
   "cell_type": "code",
   "execution_count": null,
   "metadata": {},
   "outputs": [],
   "source": []
  },
  {
   "cell_type": "code",
   "execution_count": null,
   "metadata": {},
   "outputs": [],
   "source": []
  },
  {
   "cell_type": "code",
   "execution_count": 178,
   "metadata": {},
   "outputs": [
    {
     "name": "stdout",
     "output_type": "stream",
     "text": [
      "Model: \"sequential_9\"\n",
      "_________________________________________________________________\n",
      " Layer (type)                Output Shape              Param #   \n",
      "=================================================================\n",
      " lstm_18 (LSTM)              (None, 20, 64)            16896     \n",
      "                                                                 \n",
      " dropout_16 (Dropout)        (None, 20, 64)            0         \n",
      "                                                                 \n",
      " lstm_19 (LSTM)              (None, 20, 64)            33024     \n",
      "                                                                 \n",
      " lstm_20 (LSTM)              (None, 20, 64)            33024     \n",
      "                                                                 \n",
      " dropout_17 (Dropout)        (None, 20, 64)            0         \n",
      "                                                                 \n",
      " lstm_21 (LSTM)              (None, 20, 64)            33024     \n",
      "                                                                 \n",
      " lstm_22 (LSTM)              (None, 20, 64)            33024     \n",
      "                                                                 \n",
      " lstm_23 (LSTM)              (None, 20, 64)            33024     \n",
      "                                                                 \n",
      " lstm_24 (LSTM)              (None, 20, 64)            33024     \n",
      "                                                                 \n",
      " lstm_25 (LSTM)              (None, 20, 64)            33024     \n",
      "                                                                 \n",
      " lstm_26 (LSTM)              (None, 20, 64)            33024     \n",
      "                                                                 \n",
      " lstm_27 (LSTM)              (None, 20, 64)            33024     \n",
      "                                                                 \n",
      " lstm_28 (LSTM)              (None, 64)                33024     \n",
      "                                                                 \n",
      " dense_29 (Dense)            (None, 1)                 65        \n",
      "                                                                 \n",
      "=================================================================\n",
      "Total params: 347,201\n",
      "Trainable params: 347,201\n",
      "Non-trainable params: 0\n",
      "_________________________________________________________________\n"
     ]
    }
   ],
   "source": [
    "model = Sequential()\n",
    "\n",
    "model.add( LSTM(units=64, return_sequences=True, input_shape=(length,n_features)) )\n",
    "model.add( Dropout(0.15) )\n",
    "#model.add(Activation('tanh'))\n",
    "\n",
    "model.add( LSTM(units=64, return_sequences=True ) ) \n",
    "#model.add(Activation('tanh'))\n",
    "model.add( LSTM(units=64, return_sequences=True ) ) \n",
    "#model.add(Activation('tanh'))\n",
    "model.add( Dropout(0.15) )\n",
    "model.add( LSTM(units=64, return_sequences=True ) ) \n",
    "#model.add(Activation('tanh'))\n",
    "model.add( LSTM(units=64, return_sequences=True ) ) \n",
    "#model.add(Activation('tanh'))\n",
    "model.add( LSTM(units=64, return_sequences=True ) ) \n",
    "#model.add(Activation('tanh'))\n",
    "model.add( LSTM(units=64, return_sequences=True ) ) \n",
    "#model.add(Activation('tanh'))\n",
    "model.add( LSTM(units=64, return_sequences=True ) ) \n",
    "#model.add(Activation('tanh'))\n",
    "model.add( LSTM(units=64, return_sequences=True ) ) \n",
    "#model.add(Activation('tanh'))\n",
    "model.add( LSTM(units=64, return_sequences=True ) ) \n",
    "#model.add(Activation('tanh'))\n",
    "\n",
    "model.add( LSTM(units=64 ) ) \n",
    "#model.add(Activation('tanh'))\n",
    "\n",
    "model.add( Dense(units=1) )\n",
    "          \n",
    "model.summary()"
   ]
  },
  {
   "cell_type": "code",
   "execution_count": 192,
   "metadata": {},
   "outputs": [],
   "source": [
    "model = Sequential() \n",
    "model.add( LSTM( units=20, return_sequences=True, activation='tanh', input_shape=(length,n_features)))\n",
    "model.add( Dropout(0.15) )\n",
    "model.add( LSTM( units=20,  return_sequences=True, activation='tanh'  ))\n",
    "model.add( LSTM( units=20,  return_sequences=True, activation='tanh'  ))\n",
    "model.add( Dropout(0.15) )\n",
    "model.add( TimeDistributed( Dense(20, activation='relu') ))\n",
    "model.add( TimeDistributed( Dense(1) ))"
   ]
  },
  {
   "cell_type": "code",
   "execution_count": null,
   "metadata": {},
   "outputs": [],
   "source": [
    "model = Sequential()\n",
    "model.add(LSTM(units=200, return_sequences=True, input_shape=(length, n_features), activation='relu' ))\n",
    "model.add(Dropout(0.15))\n",
    "model.add(LSTM(units=200, return_sequences=True, activation='tanh' ))\n",
    "model.add(Dropout(0.15))\n",
    "model.add(LSTM(units=20, activation='relu', return_sequences=True))\n",
    "model.add(Dropout(0.15))\n",
    "model.add(LSTM(units=20, activation='relu', return_sequences=True))\n",
    "model.add(Dense(20, activation='relu'))\n",
    "model.add(Dropout(0.15))\n",
    "model.add(Dense(1))\n",
    "\n",
    "#model.compile(loss=keras.losses.MeanSquaredError(), optimizer=keras.optimizers.Adam(learning_rate=0.001), metrics=['mse'])\n",
    "\n"
   ]
  }
 ],
 "metadata": {
  "kernelspec": {
   "display_name": "Python 3 (ipykernel)",
   "language": "python",
   "name": "python3"
  },
  "language_info": {
   "codemirror_mode": {
    "name": "ipython",
    "version": 3
   },
   "file_extension": ".py",
   "mimetype": "text/x-python",
   "name": "python",
   "nbconvert_exporter": "python",
   "pygments_lexer": "ipython3",
   "version": "3.10.13"
  }
 },
 "nbformat": 4,
 "nbformat_minor": 4
}
