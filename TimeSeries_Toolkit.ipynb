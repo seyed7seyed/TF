{
 "cells": [
  {
   "cell_type": "code",
   "execution_count": 1,
   "metadata": {},
   "outputs": [],
   "source": [
    "import numpy      as np\n",
    "import pandas     as pd\n",
    "from   pandas     import read_csv\n",
    "\n",
    "import tensorflow as tf\n",
    "from   tensorflow import keras\n",
    "\n",
    "import matplotlib.pyplot as plt "
   ]
  },
  {
   "cell_type": "markdown",
   "metadata": {},
   "source": [
    "##### \n",
    "### Functions"
   ]
  },
  {
   "cell_type": "code",
   "execution_count": 2,
   "metadata": {},
   "outputs": [],
   "source": [
    "# Time-Series Generator\n",
    "def generate_time_series( bSize, nSteps ):  \n",
    "    freq1, freq2, offsets1, offsets2 = np.random.rand(4, bSize, 1)\n",
    "    time = np.linspace(0, 1, nSteps)\n",
    "    series  = 0.5 * np.sin((time - offsets1) * (freq1 * 10 + 10))     #   wave 1\n",
    "    series += 0.2 * np.sin((time - offsets2) * (freq2 * 20 + 20))     # + wave 2\n",
    "    series += 0.1 * (np.random.rand(bSize, nSteps) - 0.5)             # + noise\n",
    "    return series[..., np.newaxis].astype(np.float32)\n",
    "\n",
    "# last_time_step_mse\n",
    "def last_time_step_mse(Y_true, Y_pred):\n",
    "    return keras.metrics.mean_squared_error(Y_true[:, -1], Y_pred[:, -1])"
   ]
  },
  {
   "cell_type": "markdown",
   "metadata": {},
   "source": [
    "##### \n",
    "### Forecasting N Time Steps Ahead"
   ]
  },
  {
   "cell_type": "code",
   "execution_count": 7,
   "metadata": {},
   "outputs": [],
   "source": [
    "bSize  = 10000   # batch_size\n",
    "nSteps = 50      #  n_steps \n",
    "\n",
    "N = 10\n",
    "n_neurons =  np.max( [20, 2*N] )"
   ]
  },
  {
   "cell_type": "markdown",
   "metadata": {},
   "source": [
    "##### \n",
    "## Handling Long Sequences\n",
    "2 Problems:\n",
    "  - unstable gradients problem.\n",
    "  - Short-Term Memory"
   ]
  },
  {
   "cell_type": "code",
   "execution_count": 87,
   "metadata": {},
   "outputs": [],
   "source": [
    "# Handling Unstable Gradients  ( 1 Method Only )\n",
    "from keras.layers import RNN, Dense, TimeDistributed, SimpleRNNCell, LayerNormalization\n",
    "\n",
    "class LNSimpleRNNCell(keras.layers.Layer):\n",
    "    \n",
    "    def __init__(self, units, activation=\"tanh\", **kwargs):\n",
    "        super().__init__(**kwargs)\n",
    "        self.state_size      = units\n",
    "        self.output_size     = units\n",
    "        self.simple_rnn_cell = SimpleRNNCell(units,activation=None)\n",
    "        self.layer_norm      = LayerNormalization()\n",
    "        self.activation      = keras.activations.get( activation )\n",
    "        \n",
    "    def call(self, inputs, states):\n",
    "        outputs, new_states  = self.simple_rnn_cell(inputs, states)\n",
    "        norm_outputs         = self.activation(self.layer_norm(outputs))\n",
    "        return norm_outputs, [norm_outputs]\n",
    "\n",
    "model = keras.models.Sequential([\n",
    "      RNN( LNSimpleRNNCell(64), return_sequences=True, input_shape=[None,1] )\n",
    "    , RNN( LNSimpleRNNCell(64), return_sequences=True )\n",
    "    , TimeDistributed( Dense(N) )\n",
    "    ])\n",
    "\n",
    "model_long = model"
   ]
  },
  {
   "cell_type": "code",
   "execution_count": null,
   "metadata": {},
   "outputs": [],
   "source": [
    "# Handling Short-Term Memory  ( 4 Methods )\n",
    "from keras.models import Sequential\n",
    "from keras.layers import LSTM, RNN, LSTMCell, TimeDistributed, Conv1D, GRU, InputLayer\n",
    "from keras.optimizers import Adam \n",
    "\n",
    "# (1.1)   good   LSTM cells: long-term memory cells \n",
    "model = keras.models.Sequential([\n",
    "      LSTM( 20, return_sequences=True, input_shape=[None,1] )\n",
    "    , LSTM( 20, return_sequences=True )\n",
    "    , TimeDistributed( keras.layers.Dense( N ) )\n",
    "    ])\n",
    "model_A = model\n",
    "\n",
    "# (1.2) not-bad  LSTM cells: long-term memory cells \n",
    "model = Sequential([\n",
    "      RNN( LSTMCell(64), return_sequences=True, input_shape=[None,1] )\n",
    "    , RNN( LSTMCell(64), return_sequences=True )\n",
    "    , TimeDistributed( Dense(N) )\n",
    "    ]) \n",
    "model_B = model\n",
    "\n",
    "model = Sequential() \n",
    "model.add( LSTM( units=128, return_sequences=True, activation='tanh', input_shape=(X_train.shape[1], 1) ))\n",
    "model.add( LSTM( units=64, return_sequences=True, activation='tanh'  ))\n",
    "model.add( TimeDistributed( Dense(64, activation='relu') ))\n",
    "model.add( TimeDistributed( Dense(N) ))\n",
    "model_C = model\n",
    "\n",
    "\n",
    "# (2) Best   1D convolutional layers \n",
    "model = Sequential([    \n",
    "      Conv1D( filters=64, kernel_size=4, strides=2, padding='valid', input_shape=[None,1] )  \n",
    "    , GRU( 64, return_sequences=True )\n",
    "    , GRU( 64, return_sequences=True )\n",
    "    , TimeDistributed( Dense(N) )\n",
    "    ])\n",
    "model_D = model\n",
    "\n",
    "model.compile( loss      = \"mse\"\n",
    "             , optimizer = Adam(learning_rate=0.001)   # \"adam\"\n",
    "             , metrics   = [last_time_step_mse]\n",
    "\n",
    "history = model.fit( X_train, Y_train[:, 3::2]\n",
    "                   , epochs = 20\n",
    "                   , validation_data = ( X_valid, Y_valid[:, 3::2] ) )\n",
    "\n",
    "\n",
    "              \n",
    "# (3) Best   WaveNet \n",
    "model = Sequential()\n",
    "model.add( InputLayer(input_shape=[None,1]) )\n",
    "for rate in (1, 2, 4, 8) * 2:\n",
    "    model.add( Conv1D( filters=64, kernel_size=2, padding=\"causal\", activation=\"relu\", dilation_rate=rate ))\n",
    "model.add( Conv1D( filters=N, kernel_size=1 ))\n",
    "model_E = model\n",
    " \n",
    "model.compile( loss      = \"mse\"\n",
    "             , optimizer = Adam(learning_rate=0.001)   # \"adam\"\n",
    "             , metrics   = [last_time_step_mse]\n",
    "             )\n",
    "\n",
    "history = model.fit( X_train, Y_train\n",
    "                   , epochs          =  2\n",
    "                   , batch_size      =  N  \n",
    "                   , validation_data = (X_valid, Y_valid)\n",
    "                   )"
   ]
  },
  {
   "cell_type": "code",
   "execution_count": 134,
   "metadata": {},
   "outputs": [],
   "source": [
    "# (3) Best   WaveNet \n",
    "model = Sequential()\n",
    "model.add( InputLayer(input_shape=[None,1]) )\n",
    "for rate in (1, 2, 4, 8) * 2:\n",
    "    model.add( Conv1D( filters=64, kernel_size=2, padding=\"causal\", activation=\"relu\", dilation_rate=rate ))\n",
    "model.add( Conv1D( filters=N, kernel_size=1 ))"
   ]
  },
  {
   "cell_type": "markdown",
   "metadata": {},
   "source": [
    "##### \n",
    "## Project 1:   Monthly Armed Robberies in Boston"
   ]
  },
  {
   "cell_type": "code",
   "execution_count": 89,
   "metadata": {},
   "outputs": [
    {
     "data": {
      "text/html": [
       "<div>\n",
       "<style scoped>\n",
       "    .dataframe tbody tr th:only-of-type {\n",
       "        vertical-align: middle;\n",
       "    }\n",
       "\n",
       "    .dataframe tbody tr th {\n",
       "        vertical-align: top;\n",
       "    }\n",
       "\n",
       "    .dataframe thead th {\n",
       "        text-align: right;\n",
       "    }\n",
       "</style>\n",
       "<table border=\"1\" class=\"dataframe\">\n",
       "  <thead>\n",
       "    <tr style=\"text-align: right;\">\n",
       "      <th></th>\n",
       "      <th>Month</th>\n",
       "      <th>Robberies</th>\n",
       "    </tr>\n",
       "  </thead>\n",
       "  <tbody>\n",
       "    <tr>\n",
       "      <th>0</th>\n",
       "      <td>1966-01</td>\n",
       "      <td>41</td>\n",
       "    </tr>\n",
       "    <tr>\n",
       "      <th>1</th>\n",
       "      <td>1966-02</td>\n",
       "      <td>39</td>\n",
       "    </tr>\n",
       "    <tr>\n",
       "      <th>2</th>\n",
       "      <td>1966-03</td>\n",
       "      <td>50</td>\n",
       "    </tr>\n",
       "    <tr>\n",
       "      <th>3</th>\n",
       "      <td>1966-04</td>\n",
       "      <td>40</td>\n",
       "    </tr>\n",
       "    <tr>\n",
       "      <th>4</th>\n",
       "      <td>1966-05</td>\n",
       "      <td>43</td>\n",
       "    </tr>\n",
       "  </tbody>\n",
       "</table>\n",
       "</div>"
      ],
      "text/plain": [
       "     Month  Robberies\n",
       "0  1966-01         41\n",
       "1  1966-02         39\n",
       "2  1966-03         50\n",
       "3  1966-04         40\n",
       "4  1966-05         43"
      ]
     },
     "execution_count": 89,
     "metadata": {},
     "output_type": "execute_result"
    }
   ],
   "source": [
    "Project_Name = 'Monthly_Robberies'\n",
    "\n",
    "df = read_csv('Monthly-Robberies.csv', header=0 )\n",
    "df.head(5)"
   ]
  },
  {
   "cell_type": "code",
   "execution_count": 90,
   "metadata": {},
   "outputs": [
    {
     "data": {
      "text/plain": [
       "array([ 41.,  39.,  50.,  40.,  43.,  38.,  44.,  35.,  39.,  35.,  29.,\n",
       "        49.,  50.,  59.,  63.,  32.,  39.,  47.,  53.,  60.,  57.,  52.,\n",
       "        70.,  90.,  74.,  62.,  55.,  84.,  94.,  70., 108., 139., 120.,\n",
       "        97., 126., 149., 158., 124., 140., 109., 114.,  77., 120., 133.,\n",
       "       110.,  92.,  97.,  78.,  99., 107., 112.,  90.,  98., 125., 155.,\n",
       "       190., 236., 189., 174., 178., 136., 161., 171., 149., 184., 155.,\n",
       "       276., 224., 213., 279., 268., 287., 238., 213., 257., 293., 212.,\n",
       "       246., 353., 339., 308., 247., 257., 322., 298., 273., 312., 249.,\n",
       "       286., 279., 309., 401., 309., 328., 353., 354., 327., 324., 285.,\n",
       "       243., 241., 287., 355., 460., 364., 487., 452., 391., 500., 451.,\n",
       "       375., 372., 302., 316., 398., 394., 431., 431.], dtype=float32)"
      ]
     },
     "execution_count": 90,
     "metadata": {},
     "output_type": "execute_result"
    }
   ],
   "source": [
    "S = df.iloc[:,1].values.astype('float32') \n",
    "S"
   ]
  },
  {
   "cell_type": "code",
   "execution_count": 91,
   "metadata": {},
   "outputs": [],
   "source": [
    "def under_under( S ): \n",
    "    A = [];\n",
    "    for i in S:\n",
    "        A.append([i])\n",
    "    return A\n",
    "\n",
    "A = under_under( S.copy() )  "
   ]
  },
  {
   "cell_type": "code",
   "execution_count": 92,
   "metadata": {},
   "outputs": [],
   "source": [
    "# New_Series\n",
    "import random as random\n",
    "\n",
    "def New_Series( A ):\n",
    "    New = A.copy()\n",
    "    n = len(New)\n",
    "    for i in range(n):  \n",
    "        r = random.uniform(0.9,1.1)\n",
    "        New[i][0] = New[i][0] * r\n",
    "    return New   \n",
    "\n",
    "B = New_Series( A )  \n",
    "A = under_under( S ) "
   ]
  },
  {
   "cell_type": "code",
   "execution_count": 93,
   "metadata": {},
   "outputs": [],
   "source": [
    "N      = 36\n",
    "nBatch = 20000  \n",
    "\n",
    "Series = []\n",
    "for i in range( nBatch+N ):\n",
    "    A = under_under( S ) \n",
    "    Series.append( New_Series( A ) ) \n",
    "Series = np.array(Series) "
   ]
  },
  {
   "cell_type": "code",
   "execution_count": 94,
   "metadata": {
    "scrolled": true
   },
   "outputs": [],
   "source": [
    "series = Series.copy()\n",
    "bSize  = series.shape[0]\n",
    "nSteps = series.shape[1]-N\n",
    "n_neurons = max( [20,2*N] )\n",
    "\n",
    "a, b = int(np.round(.7*bSize,0)), int(np.round(.9*bSize,0))\n",
    "\n",
    "Y = np.empty(( bSize, nSteps, N ))  \n",
    "for step_ahead in range( 1, N+1 ):\n",
    "    Y[ : , : , step_ahead-1 ] = series[ : , step_ahead:step_ahead+nSteps, 0 ]\n",
    "\n",
    "X_train, Y_train  =  series[  :a, :nSteps ],  Y[  :a ]\n",
    "X_valid, Y_valid  =  series[ a:b, :nSteps ],  Y[ a:b ]\n",
    "X_test,  Y_test   =  series[ b: , :nSteps ],  Y[ b:  ] "
   ]
  },
  {
   "cell_type": "code",
   "execution_count": 95,
   "metadata": {},
   "outputs": [
    {
     "name": "stdout",
     "output_type": "stream",
     "text": [
      "Model Defined.\n"
     ]
    }
   ],
   "source": [
    "model = Sequential() \n",
    "model.add( LSTM( units=128, return_sequences=True, activation='tanh', input_shape=(X_train.shape[1], 1) ))\n",
    "model.add( LSTM( units=64,  return_sequences=True, activation='tanh'  ))\n",
    "model.add( TimeDistributed( Dense(64, activation='relu') ))\n",
    "model.add( TimeDistributed( Dense(N) ))\n",
    "print('Model Defined.')"
   ]
  },
  {
   "cell_type": "markdown",
   "metadata": {},
   "source": [
    "##### "
   ]
  },
  {
   "cell_type": "code",
   "execution_count": 148,
   "metadata": {
    "scrolled": true
   },
   "outputs": [
    {
     "name": "stdout",
     "output_type": "stream",
     "text": [
      "Epoch 1/5\n",
      "390/390 [==============================] - 31s 76ms/step - loss: 218.8296 - last_time_step_mse: 532.2642 - val_loss: 217.8291 - val_last_time_step_mse: 531.5480\n",
      "Epoch 2/5\n",
      "390/390 [==============================] - 29s 75ms/step - loss: 217.1006 - last_time_step_mse: 530.2169 - val_loss: 216.8252 - val_last_time_step_mse: 535.0172\n",
      "Epoch 3/5\n",
      "390/390 [==============================] - 29s 75ms/step - loss: 215.5267 - last_time_step_mse: 528.0976 - val_loss: 214.9379 - val_last_time_step_mse: 527.0834\n",
      "Epoch 4/5\n",
      "390/390 [==============================] - 29s 75ms/step - loss: 213.9948 - last_time_step_mse: 526.3223 - val_loss: 213.2486 - val_last_time_step_mse: 526.2845\n",
      "Epoch 5/5\n",
      "390/390 [==============================] - 30s 76ms/step - loss: 212.6843 - last_time_step_mse: 524.6819 - val_loss: 212.6784 - val_last_time_step_mse: 524.2840\n"
     ]
    }
   ],
   "source": [
    "model.compile( loss      = \"mse\"\n",
    "             , optimizer =  Adam(learning_rate=0.00005)  #  \"adam\"\n",
    "             , metrics   = [last_time_step_mse]\n",
    "             )\n",
    "\n",
    "history = model.fit( X_train, Y_train\n",
    "                   , epochs          =  5\n",
    "                   , batch_size      =  N  \n",
    "                   , validation_data = (X_valid, Y_valid)\n",
    "                   )"
   ]
  },
  {
   "cell_type": "code",
   "execution_count": 149,
   "metadata": {
    "scrolled": true
   },
   "outputs": [
    {
     "name": "stdout",
     "output_type": "stream",
     "text": [
      "63/63 [==============================] - 1s 18ms/step\n",
      "\n",
      "RMSE = 14.6111\n"
     ]
    }
   ],
   "source": [
    "Y_pred = model.predict(X_test)   \n",
    "MSE = np.mean( keras.losses.mean_squared_error( Y_test, Y_pred ) ) \n",
    "print('\\nRMSE =',np.round(MSE**.5,4))"
   ]
  },
  {
   "cell_type": "markdown",
   "metadata": {},
   "source": [
    "##### "
   ]
  },
  {
   "cell_type": "code",
   "execution_count": 150,
   "metadata": {},
   "outputs": [],
   "source": [
    "# save weights\n",
    "version = '02'\n",
    "\n",
    "model.save_weights( Project_Name + '_' + version\n",
    "                  , overwrite = True \n",
    "                  , save_format = None \n",
    "                  , options = None \n",
    "                  )"
   ]
  },
  {
   "cell_type": "markdown",
   "metadata": {},
   "source": [
    "##### "
   ]
  },
  {
   "cell_type": "code",
   "execution_count": 151,
   "metadata": {},
   "outputs": [
    {
     "data": {
      "text/plain": [
       "<tensorflow.python.checkpoint.checkpoint.CheckpointLoadStatus at 0x14a093b89a0>"
      ]
     },
     "execution_count": 151,
     "metadata": {},
     "output_type": "execute_result"
    }
   ],
   "source": [
    "# load weights\n",
    "version = '02'\n",
    " \n",
    "model.load_weights( Project_Name + '_' + version \n",
    "                  , by_name = False \n",
    "                  , skip_mismatch = False \n",
    "                  , options = None \n",
    "                  )"
   ]
  },
  {
   "cell_type": "code",
   "execution_count": 152,
   "metadata": {
    "scrolled": false
   },
   "outputs": [
    {
     "name": "stdout",
     "output_type": "stream",
     "text": [
      "[ true  pred   diff ]\n",
      "[  257   265   0.03 ]\n",
      "[  322   319   -0.01 ]\n",
      "[  298   306   0.03 ]\n",
      "[  273   271   -0.01 ]\n",
      "[  312   308   -0.01 ]\n",
      "[  249   242   -0.03 ]\n",
      "[  286   278   -0.03 ]\n",
      "[  279   268   -0.04 ]\n",
      "[  309   312   0.01 ]\n",
      "[  401   395   -0.01 ]\n",
      "[  309   317   0.03 ]\n",
      "[  328   318   -0.03 ]\n",
      "[  353   342   -0.03 ]\n",
      "[  354   366   0.03 ]\n",
      "[  327   347   0.06 ]\n",
      "[  324   322   -0.01 ]\n",
      "[  285   295   0.04 ]\n",
      "[  243   239   -0.02 ]\n",
      "[  241   250   0.04 ]\n",
      "[  287   290   0.01 ]\n",
      "[  355   345   -0.03 ]\n",
      "[  460   465   0.01 ]\n",
      "[  364   371   0.02 ]\n",
      "[  487   479   -0.02 ]\n",
      "[  452   464   0.03 ]\n",
      "[  391   398   0.02 ]\n",
      "[  500   506   0.01 ]\n",
      "[  451   469   0.04 ]\n",
      "[  375   388   0.03 ]\n",
      "[  372   370   -0.01 ]\n",
      "[  302   292   -0.03 ]\n",
      "[  316   300   -0.05 ]\n",
      "[  398   389   -0.02 ]\n",
      "[  394   400   0.02 ]\n",
      "[  431   415   -0.04 ]\n",
      "[  431   432   0.0 ]\n"
     ]
    }
   ],
   "source": [
    "print('[ true  pred   diff ]')\n",
    "for i in range(N):\n",
    "    x1 = df.iloc[:,1].tail(N).values[i]\n",
    "    x2 = int(  np.round(Y_pred[-1][-1])[i]  )\n",
    "    dx = np.round( (x2-x1)/x1 , 2 )\n",
    "    print('[ ', x1,' ', x2,' ',dx, ']')"
   ]
  },
  {
   "cell_type": "code",
   "execution_count": 153,
   "metadata": {},
   "outputs": [
    {
     "name": "stdout",
     "output_type": "stream",
     "text": [
      "1/1 [==============================] - 0s 477ms/step\n"
     ]
    }
   ],
   "source": [
    "A = np.array([ under_under(  S  ) ])   # either (the same)\n",
    "#A = np.array([ under_under( S[N:] ) ])   #   or   (the same)\n",
    "\n",
    "Y_preds = model.predict( A ) \n",
    "Preds = np.round( Y_preds[-1][-1],0 )"
   ]
  },
  {
   "cell_type": "code",
   "execution_count": 154,
   "metadata": {},
   "outputs": [
    {
     "data": {
      "image/png": "[encoded data removed]",
      "text/plain": [
       "<Figure size 1200x500 with 1 Axes>"
      ]
     },
     "metadata": {},
     "output_type": "display_data"
    }
   ],
   "source": [
    "fig, ax = plt.subplots(figsize=(12,5))\n",
    "\n",
    "ax.plot(  range(len(S)), S\n",
    "        , lw=3, c='r', ls='-'\n",
    "        , marker='o', markersize=8\n",
    "        , mec='red' , mew=1, mfc='yellow')\n",
    "\n",
    "ax.plot(  np.arange(len(S),len(S)+N), Preds\n",
    "        , lw=3, c='g', ls='-'\n",
    "        , marker='o', markersize=8\n",
    "        , mec='blue', mew=1, mfc='yellow' )\n",
    "plt.xlim([-2,len(S)+N+2])\n",
    "plt.ylim([0,1050])\n",
    "\n",
    "plt.savefig( Project_Name+'_Version_'+version+'_.png', dpi=120 )\n",
    "plt.show()"
   ]
  },
  {
   "cell_type": "markdown",
   "metadata": {},
   "source": [
    "##### "
   ]
  },
  {
   "cell_type": "markdown",
   "metadata": {},
   "source": [
    "##### "
   ]
  },
  {
   "cell_type": "markdown",
   "metadata": {},
   "source": [
    "##### "
   ]
  }
 ],
 "metadata": {
  "kernelspec": {
   "display_name": "Python 3 (ipykernel)",
   "language": "python",
   "name": "python3"
  },
  "language_info": {
   "codemirror_mode": {
    "name": "ipython",
    "version": 3
   },
   "file_extension": ".py",
   "mimetype": "text/x-python",
   "name": "python",
   "nbconvert_exporter": "python",
   "pygments_lexer": "ipython3",
   "version": "3.10.13"
  }
 },
 "nbformat": 4,
 "nbformat_minor": 4
}
